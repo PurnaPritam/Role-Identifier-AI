{
  "cells": [
    {
      "cell_type": "markdown",
      "metadata": {
        "id": "view-in-github",
        "colab_type": "text"
      },
      "source": [
        "<a href=\"https://colab.research.google.com/github/PurnaPritam/Role-Identifier-AI/blob/main/Role-Identifier.ipynb\" target=\"_parent\"><img src=\"https://colab.research.google.com/assets/colab-badge.svg\" alt=\"Open In Colab\"/></a>"
      ]
    },
    {
      "cell_type": "code",
      "source": [
        "import torch\n",
        "import numpy as np\n",
        "import pandas as pd\n",
        "import random\n",
        "import nltk\n",
        "from nltk.corpus import stopwords\n",
        "from nltk.tokenize import word_tokenize\n",
        "from nltk.stem import WordNetLemmatizer\n",
        "from nltk.corpus import wordnet\n",
        "from sklearn.preprocessing import LabelEncoder\n",
        "from torch.utils.data import TensorDataset, DataLoader, RandomSampler, SequentialSampler\n",
        "from torch.optim import AdamW\n",
        "import torch.nn as nn\n"
      ],
      "metadata": {
        "id": "I-a2UzPR5a5u"
      },
      "execution_count": null,
      "outputs": []
    },
    {
      "cell_type": "code",
      "source": [
        "from transformers import DistilBertTokenizer, DistilBertForSequenceClassification\n",
        "\n",
        "nltk.download('stopwords')\n",
        "nltk.download('punkt')\n",
        "nltk.download('averaged_perceptron_tagger')\n",
        "nltk.download('wordnet')\n",
        "\n",
        "csv_file_location = '/content/train (2).csv'\n",
        "data = pd.read_csv(csv_file_location)\n",
        "category = data['Category']\n",
        "text = data['Text']\n",
        "category_arr = np.array(category)\n",
        "\n",
        "category_names = list(set(category_arr))\n",
        "category_names.sort()\n",
        "category_names = np.array(category_names)\n",
        "print(\"Categories:\", category_names)\n"
      ],
      "metadata": {
        "id": "X66Sf3f65iNS"
      },
      "execution_count": null,
      "outputs": []
    },
    {
      "cell_type": "code",
      "source": [
        "\n",
        "stop_words = set(stopwords.words('english'))\n",
        "stop_words_upper = {w.upper() for w in stop_words}\n",
        "all_stop_words = stop_words.union(stop_words_upper)\n",
        "\n",
        "tokenized = []\n",
        "for t in text:\n",
        "    tokens = word_tokenize(t)\n",
        "    tokens = [word for word in tokens if word not in all_stop_words]\n",
        "    tokenized.append(tokens)\n",
        "\n",
        "lemmatizer = WordNetLemmatizer()\n",
        "\n",
        "def tagger(tag):\n",
        "    if tag.startswith('J'):\n",
        "        return wordnet.ADJ\n",
        "    elif tag.startswith('V'):\n",
        "        return wordnet.VERB\n",
        "    elif tag.startswith('N'):\n",
        "        return wordnet.NOUN\n",
        "    elif tag.startswith('R'):\n",
        "        return wordnet.ADV\n",
        "    else:\n",
        "        return None\n",
        "\n",
        "lemmatized_text = []\n",
        "for tokens in tokenized:\n",
        "    tags = nltk.pos_tag(tokens)\n",
        "    lemmatized_tokens = []\n",
        "    for word, pos in tags:\n",
        "        wn_tag = tagger(pos)\n",
        "        if wn_tag is None:\n",
        "            lemmatized_tokens.append(word)\n",
        "        else:\n",
        "            lemmatized_tokens.append(lemmatizer.lemmatize(word, wn_tag))\n",
        "    lemmatized_text.append(\" \".join(lemmatized_tokens))"
      ],
      "metadata": {
        "id": "VJn6lYhg5t_g"
      },
      "execution_count": null,
      "outputs": []
    },
    {
      "cell_type": "code",
      "source": [
        "\n",
        "\n",
        "random.seed(10)\n",
        "random.shuffle(lemmatized_text)\n",
        "random.seed(10)\n",
        "random.shuffle(category_arr)\n",
        "\n",
        "n = int(len(lemmatized_text) * 0.8)\n",
        "train_texts, val_texts = lemmatized_text[:n], lemmatized_text[n:]\n",
        "train_labels_raw, val_labels_raw = category_arr[:n], category_arr[n:]\n",
        "\n",
        "tokenizer = DistilBertTokenizer.from_pretrained('distilbert-base-uncased')\n",
        "\n",
        "train_enc = tokenizer(train_texts, padding='max_length', max_length=512, truncation=True, return_tensors=\"pt\")\n",
        "val_enc = tokenizer(val_texts, padding='max_length', max_length=512, truncation=True, return_tensors=\"pt\")\n",
        "\n",
        "encoder = LabelEncoder()\n",
        "train_labels = torch.tensor(encoder.fit_transform(train_labels_raw))\n",
        "val_labels = torch.tensor(encoder.transform(val_labels_raw))\n",
        "\n",
        "batch_size = 32\n",
        "\n",
        "train_dataset = TensorDataset(train_enc['input_ids'], train_enc['attention_mask'], train_labels)\n",
        "val_dataset = TensorDataset(val_enc['input_ids'], val_enc['attention_mask'], val_labels)\n",
        "\n",
        "train_dataloader = DataLoader(train_dataset, sampler=RandomSampler(train_dataset), batch_size=batch_size)\n",
        "val_dataloader = DataLoader(val_dataset, sampler=SequentialSampler(val_dataset), batch_size=batch_size)\n",
        "\n",
        "model_0 = DistilBertForSequenceClassification.from_pretrained(\n",
        "    'distilbert-base-uncased',\n",
        "    num_labels=len(category_names)\n",
        ")"
      ],
      "metadata": {
        "id": "-y3HGa9m50_Y"
      },
      "execution_count": null,
      "outputs": []
    },
    {
      "cell_type": "code",
      "source": [
        "\n",
        "\n",
        "for param in model_0.distilbert.parameters():\n",
        "    param.requires_grad = False\n",
        "\n",
        "for param in model_0.classifier.parameters():\n",
        "    param.requires_grad = True\n",
        "\n",
        "optimizer = AdamW(model_0.parameters(), lr=1e-4)\n",
        "\n",
        "def evaluate(model, loader):\n",
        "    model.eval()\n",
        "    total, correct = 0, 0\n",
        "    with torch.no_grad():\n",
        "        for batch in loader:\n",
        "            input_ids, attention_mask, labels = batch\n",
        "            outputs = model(\n",
        "                input_ids=input_ids,\n",
        "                attention_mask=attention_mask,\n",
        "                labels=labels\n",
        "            )\n",
        "            logits = outputs.logits\n",
        "            preds = torch.argmax(logits, dim=1)\n",
        "            total += labels.size(0)\n",
        "            correct += (preds == labels).sum().item()\n",
        "    return correct / total"
      ],
      "metadata": {
        "id": "KJJ90IIi535m"
      },
      "execution_count": null,
      "outputs": []
    },
    {
      "cell_type": "code",
      "source": [
        "\n",
        "epochs = 3\n",
        "for epoch in range(epochs):\n",
        "    model_0.train()\n",
        "    for batch in train_dataloader:\n",
        "        input_ids, attention_mask, labels = batch\n",
        "        outputs = model_0(\n",
        "            input_ids=input_ids,\n",
        "            attention_mask=attention_mask,\n",
        "            labels=labels\n",
        "        )\n",
        "        loss = outputs.loss\n",
        "        optimizer.zero_grad()\n",
        "        loss.backward()\n",
        "        optimizer.step()\n",
        "    print(f\"Epoch {epoch+1} | Train Acc: {evaluate(model_0, train_dataloader):.4f} | Val Acc: {evaluate(model_0, val_dataloader):.4f}\")\n",
        "\n",
        "for param in model_0.parameters():\n",
        "    param.requires_grad = True\n",
        "\n",
        "optimizer = AdamW(model_0.parameters(), lr=5e-5)\n",
        "\n",
        "epochs = 3\n",
        "for epoch in range(epochs):\n",
        "    model_0.train()\n",
        "    for batch in train_dataloader:\n",
        "        input_ids, attention_mask, labels = batch\n",
        "        outputs = model_0(\n",
        "            input_ids=input_ids,\n",
        "            attention_mask=attention_mask,\n",
        "            labels=labels\n",
        "        )\n",
        "        loss = outputs.loss\n",
        "        optimizer.zero_grad()\n",
        "        loss.backward()\n",
        "        optimizer.step()\n",
        "    print(f\"[Fine-tune] Epoch {epoch+1} | Train Acc: {evaluate(model_0, train_dataloader):.4f} | Val Acc: {evaluate(model_0, val_dataloader):.4f}\")"
      ],
      "metadata": {
        "id": "vKiXPHw234Jx"
      },
      "execution_count": null,
      "outputs": []
    }
  ],
  "metadata": {
    "colab": {
      "name": "Welcome To Colab",
      "toc_visible": true,
      "provenance": [],
      "include_colab_link": true
    },
    "kernelspec": {
      "display_name": "Python 3",
      "name": "python3"
    }
  },
  "nbformat": 4,
  "nbformat_minor": 0
}